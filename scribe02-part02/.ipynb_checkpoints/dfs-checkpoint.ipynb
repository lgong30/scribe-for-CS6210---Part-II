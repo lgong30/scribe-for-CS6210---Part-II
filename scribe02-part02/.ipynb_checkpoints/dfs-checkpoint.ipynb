{
 "cells": [
  {
   "cell_type": "markdown",
   "metadata": {},
   "source": [
    "# Distributed File System (DFS)\n",
    "\n",
    "\n",
    "Thought experiment: _How to use the cluster memory for cooperative cahcing of files ?_\n",
    "\n",
    "## Prelimiaries: Striping a File to Multiple Disks\n",
    "\n",
    "- Increase I/O bandwidth by stripping to parallel discks\n",
    "- Failure protection by **ECC**\n",
    "\n",
    "\n",
    "Drawbacks:\n",
    "+ Cost\n",
    "+ Small write problem: ??\n",
    "\n",
    "\n",
    "## Prelimiaries: Log Structured File System\n",
    "\n",
    "- Buffer changes to multiple files in on contiguous **log segment** data structure\n",
    "- Plush **log segment** to disk once it fills up or periodically ==> Solves small write problem\n",
    "\n",
    "temp files \n",
    "\n",
    "\n",
    "## Prelimiaries: Software RAID\n",
    "\n",
    "...\n",
    "\n",
    "\n",
    "## Putting Them All Together Plus More\n",
    "\n",
    "...\n",
    "\n",
    "\n",
    "\n",
    "\n",
    "\n",
    "\n",
    "\n",
    "\n",
    "\n",
    "\n",
    "\n",
    "\n",
    "\n",
    "\n",
    "\n",
    "\n",
    "\n",
    "\n",
    "\n",
    "\n",
    "\n",
    "\n",
    "\n",
    "\n"
   ]
  },
  {
   "cell_type": "code",
   "execution_count": null,
   "metadata": {
    "collapsed": true
   },
   "outputs": [],
   "source": []
  }
 ],
 "metadata": {
  "kernelspec": {
   "display_name": "Python 2",
   "language": "python",
   "name": "python2"
  },
  "language_info": {
   "codemirror_mode": {
    "name": "ipython",
    "version": 2
   },
   "file_extension": ".py",
   "mimetype": "text/x-python",
   "name": "python",
   "nbconvert_exporter": "python",
   "pygments_lexer": "ipython2",
   "version": "2.7.13"
  }
 },
 "nbformat": 4,
 "nbformat_minor": 2
}
